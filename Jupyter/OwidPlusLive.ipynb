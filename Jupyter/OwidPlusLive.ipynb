{
 "cells": [
  {
   "cell_type": "markdown",
   "metadata": {},
   "source": [
    "# OWIDplusLIVE\n",
    "\n",
    "Das folgende Jupyter-Notebook dokumentiert die API von OWIDplusLIVE (www.owid.de/plus/live-2021)\n"
   ]
  },
  {
   "cell_type": "markdown",
   "metadata": {},
   "source": [
    "## Dependencies\n",
    "\n",
    "Folgende Dependencies müssen einmalig nach dem Starten des Notebooks importiert werden,\n"
   ]
  },
  {
   "cell_type": "code",
   "execution_count": 18,
   "metadata": {},
   "outputs": [],
   "source": [
    "import requests\n",
    "import json"
   ]
  },
  {
   "cell_type": "markdown",
   "metadata": {},
   "source": [
    "## Statische Daten u. Funktionen\n",
    "\n",
    "Folgende Variablen/Daten und Funktionen werden zentral im gesamten Notebook verwendet und müssen einmal nach dem Start des Notebooks ausgeführt werden:\n"
   ]
  },
  {
   "cell_type": "code",
   "execution_count": 17,
   "metadata": {},
   "outputs": [],
   "source": [
    "baseUrl = \"https://www.owid.de/plus/live-2021/api\"\n",
    "layer = {\"Wortform\": 0, \"Lemma\": 1, \"POS\": 2}\n",
    "\n",
    "def search(query):\n",
    "    url = f\"{baseUrl}/find\"\n",
    "    payload = json.dumps(query)\n",
    "    headers = {\n",
    "        'Content-Type': 'application/json'\n",
    "    }\n",
    "    response = requests.request(\"POST\", url, headers=headers, data=payload)\n",
    "    return response.json()\n",
    "\n",
    "def granulation_by_date(data):\n",
    "    return data\n",
    "\n",
    "def granulation_by_month(data):\n",
    "    return data[:7]\n",
    "\n",
    "def granulation_by_quarter(data):\n",
    "    return data[:4] + \"-Q\" + str((int(data[5:7]) - 1) // 3 + 1)\n",
    "\n",
    "def granulation_by_year(data):\n",
    "    return data[:4]\n",
    "\n",
    "def safeGetVal(data, key):\n",
    "    if key in data:\n",
    "        return data[key]\n",
    "    return 0\n",
    "\n",
    "def moving_average(normGramItem_Granulated, data_Granulated, n):\n",
    "    if(n < 2):\n",
    "        return data_Granulated\n",
    "    \n",
    "    res = {}\n",
    "    dates = list(normGramItem_Granulated.keys())\n",
    "    for i in range(len(dates) - n + 1):\n",
    "        select = dates[i:i+n+1] if n%2 == 0 else dates[i:i+n]        \n",
    "        first = safeGetVal(data_Granulated, select[0])\n",
    "        center = select[len(select) // 2]\n",
    "        last = safeGetVal(data_Granulated, select[-1])\n",
    "        select = select[1:-1]\n",
    "        \n",
    "        x = 0.0\n",
    "        if n % 2 == 0:\n",
    "            x += first / 2\n",
    "            x += last / 2\n",
    "        else:\n",
    "            x += first\n",
    "            x += last\n",
    "        \n",
    "        for j in select:\n",
    "            x += safeGetVal(data_Granulated, j)\n",
    "        \n",
    "        res[center] = x / (n + 1 if n % 2 == 0 else n)\n",
    "    return res"
   ]
  },
  {
   "cell_type": "markdown",
   "metadata": {},
   "source": [
    "### Notizen\n",
    "\n",
    "Die Funktion search (siehe oben) erlaubt die Suche nach\n"
   ]
  },
  {
   "cell_type": "code",
   "execution_count": null,
   "metadata": {},
   "outputs": [],
   "source": [
    "#def searchN1(layer1, token1):\n",
    "#    query = {\n",
    "#        \"N\": 1,\n",
    "#        \"Items\": [\n",
    "#            {\n",
    "#                \"layer\": layer1,\n",
    "#                \"token\": token1,\n",
    "#                \"position\": 0\n",
    "#            }\n",
    "#        ]\n",
    "#    }    \n",
    "#    return search(query)\n",
    "#\n",
    "#def searchN2(layer1, token1, layer2, token2):\n",
    "#    query = {\n",
    "#        \"N\": 2,\n",
    "#        \"Items\": [\n",
    "#            {\n",
    "#                \"layer\": layer1,\n",
    "#                \"token\": token1,\n",
    "#                \"position\": 0\n",
    "#            },\n",
    "#            {\n",
    "#                \"layer\": layer2,\n",
    "#                \"token\": token2,\n",
    "#                \"position\": 1\n",
    "#            }\n",
    "#        ]\n",
    "#    }    \n",
    "#    return search(query)\n",
    "#\n",
    "#def searchN3(layer1, token1, layer2, token2, layer3, token3):\n",
    "#    query = {\n",
    "#        \"N\": 3,\n",
    "#        \"Items\": [\n",
    "#            {\n",
    "#                \"layer\": layer1,\n",
    "#                \"token\": token1,\n",
    "#                \"position\": 0\n",
    "#            },\n",
    "#            {\n",
    "#                \"layer\": layer2,\n",
    "#                \"token\": token2,\n",
    "#                \"position\": 1\n",
    "#            },\n",
    "#            {\n",
    "#                \"layer\": layer3,\n",
    "#                \"token\": token3,\n",
    "#                \"position\": 2\n",
    "#            }\n",
    "#        ]\n",
    "#    }    \n",
    "#    return search(query)"
   ]
  },
  {
   "cell_type": "markdown",
   "metadata": {},
   "source": [
    "## Normadaten\n",
    "\n",
    "Einmalig nach dem Start müssen die aktuellen Normdaten bezogen werden - diese werden zur Berechnung der relativen Frequenz verwendet.\n"
   ]
  },
  {
   "cell_type": "code",
   "execution_count": 16,
   "metadata": {},
   "outputs": [
    {
     "name": "stdout",
     "output_type": "stream",
     "text": [
      "TOTAL:\n",
      "normGram 1: 142537047\n",
      "normGram 2: 128811391\n",
      "normGram 3: 115111122\n"
     ]
    }
   ],
   "source": [
    "url = f\"{baseUrl}/norm\"\n",
    "\n",
    "payload = {}\n",
    "headers = {}\n",
    "\n",
    "response = requests.request(\"GET\", url, headers=headers, data=payload)\n",
    "response = response.json()\n",
    "\n",
    "def normClean(response, idx):\n",
    "    res = response[idx]\n",
    "    res = {key.split(\"T\")[0]: res[key] for key in res}\n",
    "    res = dict(sorted(res.items()))\n",
    "    return res\n",
    "\n",
    "normGram = {}\n",
    "normGram[1] = normClean(response, 0)\n",
    "normGram[2] = normClean(response, 1)\n",
    "normGram[3] = normClean(response, 2)\n",
    "\n",
    "print(\"TOTAL:\")\n",
    "print(f\"normGram 1: {sum([normGram[1][x] for x in normGram[1]])}\")\n",
    "print(f\"normGram 2: {sum([normGram[2][x] for x in normGram[2]])}\")\n",
    "print(f\"normGram 3: {sum([normGram[3][x] for x in normGram[3]])}\")"
   ]
  },
  {
   "cell_type": "markdown",
   "metadata": {},
   "source": [
    "##\n"
   ]
  }
 ],
 "metadata": {
  "kernelspec": {
   "display_name": "Python 3",
   "language": "python",
   "name": "python3"
  },
  "language_info": {
   "codemirror_mode": {
    "name": "ipython",
    "version": 3
   },
   "file_extension": ".py",
   "mimetype": "text/x-python",
   "name": "python",
   "nbconvert_exporter": "python",
   "pygments_lexer": "ipython3",
   "version": "3.12.4"
  }
 },
 "nbformat": 4,
 "nbformat_minor": 2
}
